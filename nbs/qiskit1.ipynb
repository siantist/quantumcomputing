{
 "cells": [
  {
   "cell_type": "code",
   "execution_count": 1,
   "id": "b6da3490",
   "metadata": {},
   "outputs": [],
   "source": [
    "mat1 = [[1,1,0,0],[1,0,1,0],[0,1,1,1],[0,0,0,1]]"
   ]
  },
  {
   "cell_type": "code",
   "execution_count": 2,
   "id": "ee686409",
   "metadata": {},
   "outputs": [],
   "source": [
    "import numpy as np\n",
    "mt = np.transpose(mat1)"
   ]
  },
  {
   "cell_type": "code",
   "execution_count": 3,
   "id": "8320d636",
   "metadata": {},
   "outputs": [
    {
     "data": {
      "text/plain": [
       "array([[2, 1, 1, 0],\n",
       "       [1, 2, 1, 0],\n",
       "       [1, 1, 3, 1],\n",
       "       [0, 0, 1, 1]])"
      ]
     },
     "execution_count": 3,
     "metadata": {},
     "output_type": "execute_result"
    }
   ],
   "source": [
    "np.matmul(mat1, mt)"
   ]
  },
  {
   "cell_type": "markdown",
   "id": "7e598c01",
   "metadata": {},
   "source": [
    "we can use the Pauli representation, which makes integration\n",
    "problems correspond to computations on the real sphere $S^3$"
   ]
  },
  {
   "cell_type": "code",
   "execution_count": 4,
   "id": "ee4789fd",
   "metadata": {},
   "outputs": [],
   "source": [
    "pauli_group1 = [[1,0], [0,1]]\n",
    "pauli_group2 = [[1j, 0],[0, -1j]]\n",
    "pauli_group3 = [[0,1],[-1, 0]]\n",
    "pauli_group4 = [[0, 1j], [1j, 0]]"
   ]
  },
  {
   "cell_type": "code",
   "execution_count": null,
   "id": "8670ffed",
   "metadata": {},
   "outputs": [],
   "source": [
    "#apply the group(s) to each block (2x2) within the matrix "
   ]
  },
  {
   "cell_type": "code",
   "execution_count": 5,
   "id": "abc920d2",
   "metadata": {},
   "outputs": [],
   "source": [
    "# how to determine permutation?\n",
    "\n",
    "# first encode to quantum circuit\n",
    "\n",
    "# multiply, and then measure \n"
   ]
  },
  {
   "cell_type": "code",
   "execution_count": 6,
   "id": "d8eb3bcd",
   "metadata": {},
   "outputs": [
    {
     "ename": "ModuleNotFoundError",
     "evalue": "No module named 'qiskit'",
     "output_type": "error",
     "traceback": [
      "\u001b[0;31m---------------------------------------------------------------------------\u001b[0m",
      "\u001b[0;31mModuleNotFoundError\u001b[0m                       Traceback (most recent call last)",
      "\u001b[0;32m/var/folders/8m/pt7_wvd11vbfl5hhydrtd5t00000gn/T/ipykernel_17688/3120244073.py\u001b[0m in \u001b[0;36m<module>\u001b[0;34m\u001b[0m\n\u001b[0;32m----> 1\u001b[0;31m \u001b[0;32mfrom\u001b[0m \u001b[0mqiskit\u001b[0m \u001b[0;32mimport\u001b[0m \u001b[0mQuantumCircuit\u001b[0m\u001b[0;34m\u001b[0m\u001b[0m\n\u001b[0m\u001b[1;32m      2\u001b[0m \u001b[0;32mfrom\u001b[0m \u001b[0mqiskit\u001b[0m\u001b[0;34m.\u001b[0m\u001b[0mextensions\u001b[0m \u001b[0;32mimport\u001b[0m \u001b[0mUnitaryGate\u001b[0m\u001b[0;34m\u001b[0m\u001b[0m\n\u001b[1;32m      3\u001b[0m \u001b[0;34m\u001b[0m\u001b[0m\n\u001b[1;32m      4\u001b[0m \u001b[0mgate\u001b[0m \u001b[0;34m=\u001b[0m \u001b[0mUnitaryGate\u001b[0m\u001b[0;34m(\u001b[0m\u001b[0mpauli_group1\u001b[0m\u001b[0;34m)\u001b[0m\u001b[0;34m\u001b[0m\u001b[0m\n\u001b[1;32m      5\u001b[0m \u001b[0;34m\u001b[0m\u001b[0m\n",
      "\u001b[0;31mModuleNotFoundError\u001b[0m: No module named 'qiskit'"
     ]
    }
   ],
   "source": [
    "from qiskit import QuantumCircuit\n",
    "from qiskit.extensions import UnitaryGate\n",
    "\n",
    "gate = UnitaryGate(pauli_group1)\n",
    "\n",
    "circuit = QuantumCircuit(1)\n",
    "circuit.append(gate, [0])"
   ]
  },
  {
   "cell_type": "code",
   "execution_count": 7,
   "id": "2b14fda9",
   "metadata": {},
   "outputs": [],
   "source": [
    "# complex hadamard matrices\n",
    "\n",
    "# having the following properties:entries are on the unit circle, and rows are mutually orthogonal"
   ]
  },
  {
   "cell_type": "code",
   "execution_count": 8,
   "id": "5afd5fb8",
   "metadata": {},
   "outputs": [
    {
     "ename": "SyntaxError",
     "evalue": "unexpected EOF while parsing (159126088.py, line 4)",
     "output_type": "error",
     "traceback": [
      "\u001b[0;36m  File \u001b[0;32m\"/var/folders/8m/pt7_wvd11vbfl5hhydrtd5t00000gn/T/ipykernel_17688/159126088.py\"\u001b[0;36m, line \u001b[0;32m4\u001b[0m\n\u001b[0;31m    \u001b[0m\n\u001b[0m    ^\u001b[0m\n\u001b[0;31mSyntaxError\u001b[0m\u001b[0;31m:\u001b[0m unexpected EOF while parsing\n"
     ]
    }
   ],
   "source": [
    "# plot the tropical curves\n",
    "from numpy.polynomial import Polynomial \n",
    "def tropical_curve(A): # 2 var's x and y \n",
    "    p = Polynomial(A)\n",
    "    return p\n",
    "# find the min of the hyperplanes \n"
   ]
  },
  {
   "cell_type": "code",
   "execution_count": null,
   "id": "b0ed28f7",
   "metadata": {},
   "outputs": [],
   "source": [
    "# power algorithm for tropical matrices\n",
    "# find lambda and v of irreducible matrix\n",
    "def power_algo(A):"
   ]
  }
 ],
 "metadata": {
  "kernelspec": {
   "display_name": "Python 3 (ipykernel)",
   "language": "python",
   "name": "python3"
  },
  "language_info": {
   "codemirror_mode": {
    "name": "ipython",
    "version": 3
   },
   "file_extension": ".py",
   "mimetype": "text/x-python",
   "name": "python",
   "nbconvert_exporter": "python",
   "pygments_lexer": "ipython3",
   "version": "3.7.0"
  }
 },
 "nbformat": 4,
 "nbformat_minor": 5
}
